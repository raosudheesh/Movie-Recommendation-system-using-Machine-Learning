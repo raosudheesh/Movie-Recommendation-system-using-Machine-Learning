{
 "cells": [
  {
   "cell_type": "code",
   "execution_count": 68,
   "id": "380a357a",
   "metadata": {},
   "outputs": [],
   "source": [
    "import tkinter as tk\n",
    "from tkinter import *\n",
    "from PIL import Image,ImageTk\n",
    "from tkinter import messagebox"
   ]
  },
  {
   "cell_type": "code",
   "execution_count": 69,
   "id": "d43618c1",
   "metadata": {},
   "outputs": [],
   "source": [
    "# app = Tk()\n",
    "# app.title(\"Movie Recommendation System using ML\")\n",
    "# app.geometry('500x500')\n",
    "\n",
    "# app.configure(bg='red')\n",
    "\n",
    "# image1 = Image.open(\"images//bg.png\")\n",
    "# image1.show();\n",
    "# test = ImageTk.PhotoImage(image1)\n",
    "\n",
    "# label1 = tkinter.Label(image=test)\n",
    "# label1.image = test\n",
    "\n",
    "# # Position image\n",
    "# label1.place(x=0, y=0)\n",
    "\n",
    "\n",
    "# app.mainloop()"
   ]
  },
  {
   "cell_type": "code",
   "execution_count": 70,
   "metadata": {},
   "outputs": [],
   "source": [
    "# window = Tk()\n",
    "# window.title(\"Movie Recommendation System using ML\")\n",
    "\n",
    "# bg_image = PhotoImage(file =\"images/button.png\")\n",
    "# x = Label (image = bg_image)\n",
    "# x.grid(row = 0, column = 0)\n",
    "\n",
    "# width= window.winfo_screenwidth() \n",
    "# height= window.winfo_screenheight()\n",
    "# #setting tkinter window size\n",
    "# window.geometry(\"%dx%d\" % (width, height))\n",
    "\n",
    "# #window.geometry(\"500x500\")\n",
    "\n",
    "# window.mainloop()"
   ]
  },
  {
   "cell_type": "code",
   "execution_count": 71,
   "metadata": {},
   "outputs": [],
   "source": [
    "# # importing tkinter gui\n",
    "# import tkinter as tk\n",
    "  \n",
    "# #creating window\n",
    "# window=tk.Tk()\n",
    "  \n",
    "# #getting screen width and height of display\n",
    "# width= window.winfo_screenwidth() \n",
    "# height= window.winfo_screenheight()\n",
    "# #setting tkinter window size\n",
    "# window.geometry(\"%dx%d\" % (width, height))\n",
    "# window.title(\"Geeeks For Geeks\")\n",
    "# label = tk.Label(window, text=\"Hello Tkinter!\")\n",
    "# label.pack()\n",
    "  \n",
    "# window.mainloop()"
   ]
  },
  {
   "cell_type": "code",
   "execution_count": 72,
   "metadata": {},
   "outputs": [
    {
     "output_type": "error",
     "ename": "TclError",
     "evalue": "image \"pyimage531\" doesn't exist",
     "traceback": [
      "\u001b[1;31m---------------------------------------------------------------------------\u001b[0m",
      "\u001b[1;31mTclError\u001b[0m                                  Traceback (most recent call last)",
      "\u001b[1;32m<ipython-input-72-e648db2ac16a>\u001b[0m in \u001b[0;36m<module>\u001b[1;34m\u001b[0m\n\u001b[0;32m     51\u001b[0m \u001b[1;33m\u001b[0m\u001b[0m\n\u001b[0;32m     52\u001b[0m \u001b[1;33m\u001b[0m\u001b[0m\n\u001b[1;32m---> 53\u001b[1;33m \u001b[0me\u001b[0m \u001b[1;33m=\u001b[0m \u001b[0mExample\u001b[0m\u001b[1;33m(\u001b[0m\u001b[0mroot\u001b[0m\u001b[1;33m)\u001b[0m\u001b[1;33m\u001b[0m\u001b[1;33m\u001b[0m\u001b[0m\n\u001b[0m\u001b[0;32m     54\u001b[0m \u001b[0me\u001b[0m\u001b[1;33m.\u001b[0m\u001b[0mpack\u001b[0m\u001b[1;33m(\u001b[0m\u001b[0mfill\u001b[0m\u001b[1;33m=\u001b[0m\u001b[0mBOTH\u001b[0m\u001b[1;33m,\u001b[0m \u001b[0mexpand\u001b[0m\u001b[1;33m=\u001b[0m\u001b[0mYES\u001b[0m\u001b[1;33m)\u001b[0m\u001b[1;33m\u001b[0m\u001b[1;33m\u001b[0m\u001b[0m\n\u001b[0;32m     55\u001b[0m \u001b[1;33m\u001b[0m\u001b[0m\n",
      "\u001b[1;32m<ipython-input-72-e648db2ac16a>\u001b[0m in \u001b[0;36m__init__\u001b[1;34m(self, master, *pargs)\u001b[0m\n\u001b[0;32m     34\u001b[0m         \u001b[0mself\u001b[0m\u001b[1;33m.\u001b[0m\u001b[0mbackground_image\u001b[0m \u001b[1;33m=\u001b[0m \u001b[0mImageTk\u001b[0m\u001b[1;33m.\u001b[0m\u001b[0mPhotoImage\u001b[0m\u001b[1;33m(\u001b[0m\u001b[0mself\u001b[0m\u001b[1;33m.\u001b[0m\u001b[0mimage\u001b[0m\u001b[1;33m)\u001b[0m\u001b[1;33m\u001b[0m\u001b[1;33m\u001b[0m\u001b[0m\n\u001b[0;32m     35\u001b[0m \u001b[1;33m\u001b[0m\u001b[0m\n\u001b[1;32m---> 36\u001b[1;33m         \u001b[0mself\u001b[0m\u001b[1;33m.\u001b[0m\u001b[0mbackground\u001b[0m \u001b[1;33m=\u001b[0m \u001b[0mLabel\u001b[0m\u001b[1;33m(\u001b[0m\u001b[0mself\u001b[0m\u001b[1;33m,\u001b[0m \u001b[0mimage\u001b[0m\u001b[1;33m=\u001b[0m\u001b[0mself\u001b[0m\u001b[1;33m.\u001b[0m\u001b[0mbackground_image\u001b[0m\u001b[1;33m)\u001b[0m\u001b[1;33m\u001b[0m\u001b[1;33m\u001b[0m\u001b[0m\n\u001b[0m\u001b[0;32m     37\u001b[0m         \u001b[0mself\u001b[0m\u001b[1;33m.\u001b[0m\u001b[0mbackground\u001b[0m\u001b[1;33m.\u001b[0m\u001b[0mpack\u001b[0m\u001b[1;33m(\u001b[0m\u001b[0mfill\u001b[0m\u001b[1;33m=\u001b[0m\u001b[0mBOTH\u001b[0m\u001b[1;33m,\u001b[0m \u001b[0mexpand\u001b[0m\u001b[1;33m=\u001b[0m\u001b[0mYES\u001b[0m\u001b[1;33m)\u001b[0m\u001b[1;33m\u001b[0m\u001b[1;33m\u001b[0m\u001b[0m\n\u001b[0;32m     38\u001b[0m         \u001b[0mself\u001b[0m\u001b[1;33m.\u001b[0m\u001b[0mbackground\u001b[0m\u001b[1;33m.\u001b[0m\u001b[0mbind\u001b[0m\u001b[1;33m(\u001b[0m\u001b[1;34m'<Configure>'\u001b[0m\u001b[1;33m,\u001b[0m \u001b[0mself\u001b[0m\u001b[1;33m.\u001b[0m\u001b[0m_resize_image\u001b[0m\u001b[1;33m)\u001b[0m\u001b[1;33m\u001b[0m\u001b[1;33m\u001b[0m\u001b[0m\n",
      "\u001b[1;32m~\\AppData\\Local\\Programs\\Python\\Python39\\lib\\tkinter\\__init__.py\u001b[0m in \u001b[0;36m__init__\u001b[1;34m(self, master, cnf, **kw)\u001b[0m\n\u001b[0;32m   3146\u001b[0m \u001b[1;33m\u001b[0m\u001b[0m\n\u001b[0;32m   3147\u001b[0m         \"\"\"\n\u001b[1;32m-> 3148\u001b[1;33m         \u001b[0mWidget\u001b[0m\u001b[1;33m.\u001b[0m\u001b[0m__init__\u001b[0m\u001b[1;33m(\u001b[0m\u001b[0mself\u001b[0m\u001b[1;33m,\u001b[0m \u001b[0mmaster\u001b[0m\u001b[1;33m,\u001b[0m \u001b[1;34m'label'\u001b[0m\u001b[1;33m,\u001b[0m \u001b[0mcnf\u001b[0m\u001b[1;33m,\u001b[0m \u001b[0mkw\u001b[0m\u001b[1;33m)\u001b[0m\u001b[1;33m\u001b[0m\u001b[1;33m\u001b[0m\u001b[0m\n\u001b[0m\u001b[0;32m   3149\u001b[0m \u001b[1;33m\u001b[0m\u001b[0m\n\u001b[0;32m   3150\u001b[0m \u001b[1;33m\u001b[0m\u001b[0m\n",
      "\u001b[1;32m~\\AppData\\Local\\Programs\\Python\\Python39\\lib\\tkinter\\__init__.py\u001b[0m in \u001b[0;36m__init__\u001b[1;34m(self, master, widgetName, cnf, kw, extra)\u001b[0m\n\u001b[0;32m   2570\u001b[0m         \u001b[1;32mfor\u001b[0m \u001b[0mk\u001b[0m\u001b[1;33m,\u001b[0m \u001b[0mv\u001b[0m \u001b[1;32min\u001b[0m \u001b[0mclasses\u001b[0m\u001b[1;33m:\u001b[0m\u001b[1;33m\u001b[0m\u001b[1;33m\u001b[0m\u001b[0m\n\u001b[0;32m   2571\u001b[0m             \u001b[1;32mdel\u001b[0m \u001b[0mcnf\u001b[0m\u001b[1;33m[\u001b[0m\u001b[0mk\u001b[0m\u001b[1;33m]\u001b[0m\u001b[1;33m\u001b[0m\u001b[1;33m\u001b[0m\u001b[0m\n\u001b[1;32m-> 2572\u001b[1;33m         self.tk.call(\n\u001b[0m\u001b[0;32m   2573\u001b[0m             (widgetName, self._w) + extra + self._options(cnf))\n\u001b[0;32m   2574\u001b[0m         \u001b[1;32mfor\u001b[0m \u001b[0mk\u001b[0m\u001b[1;33m,\u001b[0m \u001b[0mv\u001b[0m \u001b[1;32min\u001b[0m \u001b[0mclasses\u001b[0m\u001b[1;33m:\u001b[0m\u001b[1;33m\u001b[0m\u001b[1;33m\u001b[0m\u001b[0m\n",
      "\u001b[1;31mTclError\u001b[0m: image \"pyimage531\" doesn't exist"
     ]
    }
   ],
   "source": [
    "root = tk.Tk()\n",
    "root.title(\"Title\")\n",
    "width= root.winfo_screenwidth() \n",
    "height= root.winfo_screenheight()\n",
    "#setting tkinter window size\n",
    "root.geometry(\"%dx%d\" % (width, height))\n",
    "\n",
    "btn = Button(root, text = 'Click me !', bd = '5',command = root.destroy)\n",
    " \n",
    "# Set the position of button on the top of window.  \n",
    "btn.pack(side = 'top')  \n",
    "# btn.place(x=200,y=200)\n",
    "canvas1 = tk.Canvas(root, width = 500, height = 300,  relief = 'raised')\n",
    "canvas1.pack()\n",
    "\n",
    "label1 = tk.Label(root, text='Mall Customer Segmentation')\n",
    "label1.config(font=('helvetica', 16))\n",
    "canvas1.create_window(250, 25, window=label1)\n",
    "#root.configure(background=\"\")\n",
    "\n",
    "\n",
    "\n",
    "\n",
    "class Example(Frame):\n",
    "    def __init__(self, master, *pargs):\n",
    "        Frame.__init__(self, master, *pargs)\n",
    "\n",
    "\n",
    "\n",
    "        self.image = Image.open(\"images/movie_rec1.png\")\n",
    "        self.img_copy= self.image.copy()\n",
    "\n",
    "\n",
    "        self.background_image = ImageTk.PhotoImage(self.image)\n",
    "\n",
    "        self.background = Label(self, image=self.background_image)\n",
    "        self.background.pack(fill=BOTH, expand=YES)\n",
    "        self.background.bind('<Configure>', self._resize_image)\n",
    "\n",
    "    def _resize_image(self,event):\n",
    "\n",
    "        new_width = event.width\n",
    "        new_height = event.height\n",
    "\n",
    "        self.image = self.img_copy.resize((new_width, new_height))\n",
    "\n",
    "        self.background_image = ImageTk.PhotoImage(self.image)\n",
    "        self.background.configure(image =  self.background_image)\n",
    "\n",
    "\n",
    "\n",
    "\n",
    "e = Example(root)\n",
    "e.pack(fill=BOTH, expand=YES)\n",
    "\n",
    "root.mainloop()"
   ]
  },
  {
   "cell_type": "code",
   "execution_count": 62,
   "metadata": {},
   "outputs": [],
   "source": [
    "# from tkinter import *\n",
    "\n",
    "# root = Tk()\n",
    "# root.title(\"Title\")\n",
    "# root.geometry(\"600x600\")\n",
    "# root.configure(background=\"black\")\n",
    "\n",
    "# background_image = PhotoImage(file=\"images//bg.png\")\n",
    "\n",
    "# background = Label(root, image=background_image, bd=0)\n",
    "# background.pack()\n",
    "\n",
    "# root.mainloop()"
   ]
  },
  {
   "cell_type": "code",
   "execution_count": null,
   "metadata": {},
   "outputs": [],
   "source": []
  }
 ],
 "metadata": {
  "kernelspec": {
   "name": "python395jvsc74a57bd0a3949659082f76c3dce9af69e66ef5cf512c1e4dc52678c6ac146f322361f8d5",
   "display_name": "Python 3.9.5 64-bit"
  },
  "language_info": {
   "codemirror_mode": {
    "name": "ipython",
    "version": 3
   },
   "file_extension": ".py",
   "mimetype": "text/x-python",
   "name": "python",
   "nbconvert_exporter": "python",
   "pygments_lexer": "ipython3",
   "version": "3.9.5"
  }
 },
 "nbformat": 4,
 "nbformat_minor": 5
}